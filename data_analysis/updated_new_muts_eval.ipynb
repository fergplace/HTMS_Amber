{
 "cells": [
  {
   "cell_type": "code",
   "execution_count": 8,
   "id": "bfdab93f",
   "metadata": {},
   "outputs": [],
   "source": [
    "import pandas as pd\n",
    "import numpy as np\n",
    "from functools import  singledispatch\n",
    "import matplotlib.pyplot as plt \n",
    "import seaborn as sns\n",
    "from scipy import stats\n",
    "from importlib import reload\n",
    "import eval_funcs \n",
    "import plotting_funcs as pf \n",
    "import hickle as hkl\n",
    "import ALA_helpers \n",
    "import non_ala_helpers as nah\n",
    "from scipy.stats import trim_mean"
   ]
  },
  {
   "cell_type": "code",
   "execution_count": 9,
   "id": "d14421d4",
   "metadata": {},
   "outputs": [],
   "source": [
    "full_E_decomp_dict_multi_muts = hkl.load(\"multi_muts_E_decomp_neut_all.hkl\")\n",
    "single_res_df = nah.df_from_hkl(full_E_decomp_dict_multi_muts)\n",
    "try :\n",
    "\tfull_E_decomp_dict_multi_muts_cleaned= single_res_df.drop(columns=[\"gb5opt5d\", \"gb5opt1\"])\n",
    "except KeyError:\n",
    "    full_E_decomp_dict_multi_muts_cleaned = single_res_df\n",
    "wild_type_avg = full_E_decomp_dict_multi_muts_cleaned.iloc[[0,3]].mean(axis=0)\n",
    "df_cleaned_multi =  full_E_decomp_dict_multi_muts_cleaned.iloc[4:]"
   ]
  },
  {
   "cell_type": "code",
   "execution_count": 10,
   "id": "03e0ca92",
   "metadata": {},
   "outputs": [
    {
     "data": {
      "text/plain": [
       "gb6opt1       1.412375\n",
       "gb6mbondi2    3.141888\n",
       "gb5mbondi2    2.460661\n",
       "gb6opt5d      0.348674\n",
       "dtype: float64"
      ]
     },
     "execution_count": 10,
     "metadata": {},
     "output_type": "execute_result"
    }
   ],
   "source": [
    "full_E_decomp_dict_multi_muts_cleaned.iloc[[0,3]].std(axis=0)"
   ]
  },
  {
   "cell_type": "code",
   "execution_count": 11,
   "id": "4c8bfb25",
   "metadata": {},
   "outputs": [
    {
     "data": {
      "text/html": [
       "<div>\n",
       "<style scoped>\n",
       "    .dataframe tbody tr th:only-of-type {\n",
       "        vertical-align: middle;\n",
       "    }\n",
       "\n",
       "    .dataframe tbody tr th {\n",
       "        vertical-align: top;\n",
       "    }\n",
       "\n",
       "    .dataframe thead th {\n",
       "        text-align: right;\n",
       "    }\n",
       "</style>\n",
       "<table border=\"1\" class=\"dataframe\">\n",
       "  <thead>\n",
       "    <tr style=\"text-align: right;\">\n",
       "      <th></th>\n",
       "      <th>gb6opt1</th>\n",
       "      <th>gb6mbondi2</th>\n",
       "      <th>gb5mbondi2</th>\n",
       "      <th>gb6opt5d</th>\n",
       "    </tr>\n",
       "  </thead>\n",
       "  <tbody>\n",
       "    <tr>\n",
       "      <th>Beta</th>\n",
       "      <td>-53.7997</td>\n",
       "      <td>-69.0876</td>\n",
       "      <td>-57.8429</td>\n",
       "      <td>-53.6648</td>\n",
       "    </tr>\n",
       "    <tr>\n",
       "      <th>E484KN501Y</th>\n",
       "      <td>-56.5621</td>\n",
       "      <td>-69.1214</td>\n",
       "      <td>-57.8232</td>\n",
       "      <td>-52.4799</td>\n",
       "    </tr>\n",
       "    <tr>\n",
       "      <th>Gamma</th>\n",
       "      <td>-56.8007</td>\n",
       "      <td>-67.2388</td>\n",
       "      <td>-57.8126</td>\n",
       "      <td>-57.8762</td>\n",
       "    </tr>\n",
       "    <tr>\n",
       "      <th>K417NE484K</th>\n",
       "      <td>-52.5619</td>\n",
       "      <td>-64.6043</td>\n",
       "      <td>-52.1028</td>\n",
       "      <td>-51.8304</td>\n",
       "    </tr>\n",
       "    <tr>\n",
       "      <th>K417TE484K</th>\n",
       "      <td>-58.0985</td>\n",
       "      <td>-70.6288</td>\n",
       "      <td>-56.7670</td>\n",
       "      <td>-57.0735</td>\n",
       "    </tr>\n",
       "  </tbody>\n",
       "</table>\n",
       "</div>"
      ],
      "text/plain": [
       "            gb6opt1  gb6mbondi2  gb5mbondi2  gb6opt5d\n",
       "Beta       -53.7997    -69.0876    -57.8429  -53.6648\n",
       "E484KN501Y -56.5621    -69.1214    -57.8232  -52.4799\n",
       "Gamma      -56.8007    -67.2388    -57.8126  -57.8762\n",
       "K417NE484K -52.5619    -64.6043    -52.1028  -51.8304\n",
       "K417TE484K -58.0985    -70.6288    -56.7670  -57.0735"
      ]
     },
     "execution_count": 11,
     "metadata": {},
     "output_type": "execute_result"
    }
   ],
   "source": [
    "df_cleaned_multi"
   ]
  },
  {
   "cell_type": "code",
   "execution_count": 12,
   "id": "6634a895",
   "metadata": {},
   "outputs": [],
   "source": [
    "full_E_decomp_dict_single_res = hkl.load(\"single_res_E_decomp_all.hkl\")\n",
    "single_res_df = nah.df_from_hkl(full_E_decomp_dict_single_res)\n",
    "df_cleaned_single_res = single_res_df.drop(columns=[\"gb5opt5d\", \"gb5opt1\"])\n",
    "df_exp_data = pd.read_csv(\"single_mut_effects.csv\")\n",
    "ddg_num_single = df_cleaned_single_res - wild_type_avg\n",
    "sims_done = [  mut[0:3] + nah.three_letter_amino[mut[3:]]  for mut in list(ddg_num_single.index)]\n",
    "cleaned_exp_dms_data = eval_funcs.relevant_exp_results(sims_done, df_exp_data).drop(columns=['site_RBD', 'site_SARS2', 'wildtype', 'mutant', \n",
    "       'mutation_RBD', 'bind_lib1', 'bind_lib2', 'bind_avg',\n",
    "       'expr_lib1', 'expr_lib2', 'expr_avg'])\n",
    "new_idx_arry = [mut[1:4] + nah.amino_acids[mut[4]] for mut in cleaned_exp_dms_data[\"mutation\"]]\n",
    "cleaned_exp_dms_data_cp = cleaned_exp_dms_data.copy()\n",
    "cleaned_exp_dms_data_cp.index = new_idx_arry\n",
    "cleaned_exp_dms_rdy = cleaned_exp_dms_data_cp.drop(columns=[\"mutation\"])\n",
    "merged_result = pd.merge(ddg_num_single, cleaned_exp_dms_rdy, left_index=True, right_index=True)\n",
    "dddg_df = ddg_num_single.sub(cleaned_exp_dms_rdy[\"del_del_G\"], axis=0)"
   ]
  },
  {
   "cell_type": "code",
   "execution_count": 13,
   "id": "66d0691c",
   "metadata": {},
   "outputs": [
    {
     "data": {
      "text/html": [
       "<div>\n",
       "<style scoped>\n",
       "    .dataframe tbody tr th:only-of-type {\n",
       "        vertical-align: middle;\n",
       "    }\n",
       "\n",
       "    .dataframe tbody tr th {\n",
       "        vertical-align: top;\n",
       "    }\n",
       "\n",
       "    .dataframe thead th {\n",
       "        text-align: right;\n",
       "    }\n",
       "</style>\n",
       "<table border=\"1\" class=\"dataframe\">\n",
       "  <thead>\n",
       "    <tr style=\"text-align: right;\">\n",
       "      <th></th>\n",
       "      <th>gb5mbondi2</th>\n",
       "      <th>gb6mbondi2</th>\n",
       "      <th>gb6opt1</th>\n",
       "      <th>gb6opt5d</th>\n",
       "    </tr>\n",
       "  </thead>\n",
       "  <tbody>\n",
       "    <tr>\n",
       "      <th>417ASP</th>\n",
       "      <td>1.202824</td>\n",
       "      <td>-0.958876</td>\n",
       "      <td>-2.775126</td>\n",
       "      <td>-4.282976</td>\n",
       "    </tr>\n",
       "    <tr>\n",
       "      <th>439GLU</th>\n",
       "      <td>1.118589</td>\n",
       "      <td>-2.805911</td>\n",
       "      <td>-2.715361</td>\n",
       "      <td>-5.992511</td>\n",
       "    </tr>\n",
       "    <tr>\n",
       "      <th>446CYS</th>\n",
       "      <td>0.986544</td>\n",
       "      <td>-1.048256</td>\n",
       "      <td>-1.530906</td>\n",
       "      <td>-3.197556</td>\n",
       "    </tr>\n",
       "    <tr>\n",
       "      <th>453PRO</th>\n",
       "      <td>-0.129609</td>\n",
       "      <td>-4.069109</td>\n",
       "      <td>-5.774359</td>\n",
       "      <td>-7.149109</td>\n",
       "    </tr>\n",
       "    <tr>\n",
       "      <th>455ASP</th>\n",
       "      <td>3.720335</td>\n",
       "      <td>4.039235</td>\n",
       "      <td>3.944285</td>\n",
       "      <td>5.024035</td>\n",
       "    </tr>\n",
       "    <tr>\n",
       "      <th>475TRP</th>\n",
       "      <td>7.448260</td>\n",
       "      <td>6.675660</td>\n",
       "      <td>6.466410</td>\n",
       "      <td>4.450660</td>\n",
       "    </tr>\n",
       "    <tr>\n",
       "      <th>486ASP</th>\n",
       "      <td>-0.171205</td>\n",
       "      <td>-1.318105</td>\n",
       "      <td>-1.051755</td>\n",
       "      <td>-0.676505</td>\n",
       "    </tr>\n",
       "    <tr>\n",
       "      <th>487ILE</th>\n",
       "      <td>7.426672</td>\n",
       "      <td>6.655172</td>\n",
       "      <td>8.795022</td>\n",
       "      <td>7.514872</td>\n",
       "    </tr>\n",
       "    <tr>\n",
       "      <th>489SER</th>\n",
       "      <td>13.499391</td>\n",
       "      <td>17.418391</td>\n",
       "      <td>17.531441</td>\n",
       "      <td>18.249391</td>\n",
       "    </tr>\n",
       "    <tr>\n",
       "      <th>493ASP</th>\n",
       "      <td>6.172386</td>\n",
       "      <td>3.677186</td>\n",
       "      <td>4.817736</td>\n",
       "      <td>3.418186</td>\n",
       "    </tr>\n",
       "    <tr>\n",
       "      <th>494ASP</th>\n",
       "      <td>18.080678</td>\n",
       "      <td>18.431478</td>\n",
       "      <td>19.194628</td>\n",
       "      <td>18.842278</td>\n",
       "    </tr>\n",
       "    <tr>\n",
       "      <th>496GLU</th>\n",
       "      <td>6.179640</td>\n",
       "      <td>2.509440</td>\n",
       "      <td>3.366290</td>\n",
       "      <td>0.002440</td>\n",
       "    </tr>\n",
       "    <tr>\n",
       "      <th>498PRO</th>\n",
       "      <td>-2.250477</td>\n",
       "      <td>-5.530577</td>\n",
       "      <td>-2.150727</td>\n",
       "      <td>-5.133577</td>\n",
       "    </tr>\n",
       "    <tr>\n",
       "      <th>500ILE</th>\n",
       "      <td>2.202563</td>\n",
       "      <td>0.988163</td>\n",
       "      <td>0.118913</td>\n",
       "      <td>-0.536737</td>\n",
       "    </tr>\n",
       "    <tr>\n",
       "      <th>501LYS</th>\n",
       "      <td>6.685623</td>\n",
       "      <td>3.263523</td>\n",
       "      <td>4.186873</td>\n",
       "      <td>1.495723</td>\n",
       "    </tr>\n",
       "    <tr>\n",
       "      <th>503THR</th>\n",
       "      <td>3.945227</td>\n",
       "      <td>4.891027</td>\n",
       "      <td>3.321677</td>\n",
       "      <td>2.119227</td>\n",
       "    </tr>\n",
       "    <tr>\n",
       "      <th>505GLY</th>\n",
       "      <td>11.669405</td>\n",
       "      <td>15.090405</td>\n",
       "      <td>21.005855</td>\n",
       "      <td>19.791205</td>\n",
       "    </tr>\n",
       "  </tbody>\n",
       "</table>\n",
       "</div>"
      ],
      "text/plain": [
       "        gb5mbondi2  gb6mbondi2    gb6opt1   gb6opt5d\n",
       "417ASP    1.202824   -0.958876  -2.775126  -4.282976\n",
       "439GLU    1.118589   -2.805911  -2.715361  -5.992511\n",
       "446CYS    0.986544   -1.048256  -1.530906  -3.197556\n",
       "453PRO   -0.129609   -4.069109  -5.774359  -7.149109\n",
       "455ASP    3.720335    4.039235   3.944285   5.024035\n",
       "475TRP    7.448260    6.675660   6.466410   4.450660\n",
       "486ASP   -0.171205   -1.318105  -1.051755  -0.676505\n",
       "487ILE    7.426672    6.655172   8.795022   7.514872\n",
       "489SER   13.499391   17.418391  17.531441  18.249391\n",
       "493ASP    6.172386    3.677186   4.817736   3.418186\n",
       "494ASP   18.080678   18.431478  19.194628  18.842278\n",
       "496GLU    6.179640    2.509440   3.366290   0.002440\n",
       "498PRO   -2.250477   -5.530577  -2.150727  -5.133577\n",
       "500ILE    2.202563    0.988163   0.118913  -0.536737\n",
       "501LYS    6.685623    3.263523   4.186873   1.495723\n",
       "503THR    3.945227    4.891027   3.321677   2.119227\n",
       "505GLY   11.669405   15.090405  21.005855  19.791205"
      ]
     },
     "execution_count": 13,
     "metadata": {},
     "output_type": "execute_result"
    }
   ],
   "source": [
    "dddg_df"
   ]
  },
  {
   "cell_type": "code",
   "execution_count": 14,
   "id": "b3e840eb",
   "metadata": {},
   "outputs": [],
   "source": [
    "trimmed_mean_value = trim_mean((dddg_df**2), proportiontocut=0.2)\n",
    "RMSE_single = ( (dddg_df**2).mean() ) ** (1/2)"
   ]
  },
  {
   "cell_type": "code",
   "execution_count": 15,
   "id": "d3dd40ab",
   "metadata": {},
   "outputs": [
    {
     "data": {
      "text/plain": [
       "gb5mbondi2    7.356367\n",
       "gb6mbondi2    8.007912\n",
       "gb6opt1       8.981578\n",
       "gb6opt5d      8.886162\n",
       "dtype: float64"
      ]
     },
     "execution_count": 15,
     "metadata": {},
     "output_type": "execute_result"
    }
   ],
   "source": [
    "RMSE_single"
   ]
  },
  {
   "cell_type": "code",
   "execution_count": 16,
   "id": "cc008d90",
   "metadata": {},
   "outputs": [
    {
     "data": {
      "text/plain": [
       "gb5mbondi2    5.163932\n",
       "gb6mbondi2    3.994638\n",
       "gb6opt1       4.514759\n",
       "gb6opt5d      3.172885\n",
       "dtype: float64"
      ]
     },
     "execution_count": 16,
     "metadata": {},
     "output_type": "execute_result"
    }
   ],
   "source": [
    "dddg_df.mean()"
   ]
  },
  {
   "cell_type": "code",
   "execution_count": 17,
   "id": "7caba351",
   "metadata": {},
   "outputs": [
    {
     "data": {
      "text/plain": [
       "gb5mbondi2    7.356367\n",
       "gb6mbondi2    8.007912\n",
       "gb6opt1       8.981578\n",
       "gb6opt5d      8.886162\n",
       "dtype: float64"
      ]
     },
     "execution_count": 17,
     "metadata": {},
     "output_type": "execute_result"
    }
   ],
   "source": [
    "RMSE_single"
   ]
  },
  {
   "cell_type": "code",
   "execution_count": 18,
   "id": "e00e79e5",
   "metadata": {},
   "outputs": [
    {
     "data": {
      "text/plain": [
       "gb6opt1      -53.34560\n",
       "gb6mbondi2   -65.34965\n",
       "gb5mbondi2   -57.83065\n",
       "gb6opt5d     -50.53935\n",
       "dtype: float64"
      ]
     },
     "execution_count": 18,
     "metadata": {},
     "output_type": "execute_result"
    }
   ],
   "source": [
    "wild_type_avg"
   ]
  },
  {
   "cell_type": "code",
   "execution_count": 19,
   "id": "11c6801d",
   "metadata": {},
   "outputs": [
    {
     "data": {
      "text/html": [
       "<div>\n",
       "<style scoped>\n",
       "    .dataframe tbody tr th:only-of-type {\n",
       "        vertical-align: middle;\n",
       "    }\n",
       "\n",
       "    .dataframe tbody tr th {\n",
       "        vertical-align: top;\n",
       "    }\n",
       "\n",
       "    .dataframe thead th {\n",
       "        text-align: right;\n",
       "    }\n",
       "</style>\n",
       "<table border=\"1\" class=\"dataframe\">\n",
       "  <thead>\n",
       "    <tr style=\"text-align: right;\">\n",
       "      <th></th>\n",
       "      <th>gb6opt1</th>\n",
       "      <th>gb6mbondi2</th>\n",
       "      <th>gb5mbondi2</th>\n",
       "      <th>gb6opt5d</th>\n",
       "    </tr>\n",
       "  </thead>\n",
       "  <tbody>\n",
       "    <tr>\n",
       "      <th>Beta</th>\n",
       "      <td>-53.7997</td>\n",
       "      <td>-69.0876</td>\n",
       "      <td>-57.8429</td>\n",
       "      <td>-53.6648</td>\n",
       "    </tr>\n",
       "    <tr>\n",
       "      <th>E484KN501Y</th>\n",
       "      <td>-56.5621</td>\n",
       "      <td>-69.1214</td>\n",
       "      <td>-57.8232</td>\n",
       "      <td>-52.4799</td>\n",
       "    </tr>\n",
       "    <tr>\n",
       "      <th>Gamma</th>\n",
       "      <td>-56.8007</td>\n",
       "      <td>-67.2388</td>\n",
       "      <td>-57.8126</td>\n",
       "      <td>-57.8762</td>\n",
       "    </tr>\n",
       "    <tr>\n",
       "      <th>K417NE484K</th>\n",
       "      <td>-52.5619</td>\n",
       "      <td>-64.6043</td>\n",
       "      <td>-52.1028</td>\n",
       "      <td>-51.8304</td>\n",
       "    </tr>\n",
       "    <tr>\n",
       "      <th>K417TE484K</th>\n",
       "      <td>-58.0985</td>\n",
       "      <td>-70.6288</td>\n",
       "      <td>-56.7670</td>\n",
       "      <td>-57.0735</td>\n",
       "    </tr>\n",
       "  </tbody>\n",
       "</table>\n",
       "</div>"
      ],
      "text/plain": [
       "            gb6opt1  gb6mbondi2  gb5mbondi2  gb6opt5d\n",
       "Beta       -53.7997    -69.0876    -57.8429  -53.6648\n",
       "E484KN501Y -56.5621    -69.1214    -57.8232  -52.4799\n",
       "Gamma      -56.8007    -67.2388    -57.8126  -57.8762\n",
       "K417NE484K -52.5619    -64.6043    -52.1028  -51.8304\n",
       "K417TE484K -58.0985    -70.6288    -56.7670  -57.0735"
      ]
     },
     "execution_count": 19,
     "metadata": {},
     "output_type": "execute_result"
    }
   ],
   "source": [
    "df_cleaned_multi"
   ]
  },
  {
   "cell_type": "code",
   "execution_count": 20,
   "id": "dbe9c59a",
   "metadata": {},
   "outputs": [],
   "source": [
    "ddg_sims = df_cleaned_multi -wild_type_avg\n",
    "hardcoded_ddg_spr = pd.Series(index=df_cleaned_multi.index.to_list(), data=np.array([0.79, 1.62, 1.03 , -0.72, -0.43]))"
   ]
  },
  {
   "cell_type": "code",
   "execution_count": 21,
   "id": "8b09442a",
   "metadata": {},
   "outputs": [
    {
     "data": {
      "text/plain": [
       "Beta          0.79\n",
       "E484KN501Y    1.62\n",
       "Gamma         1.03\n",
       "K417NE484K   -0.72\n",
       "K417TE484K   -0.43\n",
       "dtype: float64"
      ]
     },
     "execution_count": 21,
     "metadata": {},
     "output_type": "execute_result"
    }
   ],
   "source": [
    "hardcoded_ddg_spr"
   ]
  },
  {
   "cell_type": "code",
   "execution_count": 22,
   "id": "9660b6c9",
   "metadata": {},
   "outputs": [
    {
     "data": {
      "text/html": [
       "<div>\n",
       "<style scoped>\n",
       "    .dataframe tbody tr th:only-of-type {\n",
       "        vertical-align: middle;\n",
       "    }\n",
       "\n",
       "    .dataframe tbody tr th {\n",
       "        vertical-align: top;\n",
       "    }\n",
       "\n",
       "    .dataframe thead th {\n",
       "        text-align: right;\n",
       "    }\n",
       "</style>\n",
       "<table border=\"1\" class=\"dataframe\">\n",
       "  <thead>\n",
       "    <tr style=\"text-align: right;\">\n",
       "      <th></th>\n",
       "      <th>gb6opt1</th>\n",
       "      <th>gb6mbondi2</th>\n",
       "      <th>gb5mbondi2</th>\n",
       "      <th>gb6opt5d</th>\n",
       "    </tr>\n",
       "  </thead>\n",
       "  <tbody>\n",
       "    <tr>\n",
       "      <th>Beta</th>\n",
       "      <td>0.3359</td>\n",
       "      <td>-2.94795</td>\n",
       "      <td>0.77775</td>\n",
       "      <td>-2.33545</td>\n",
       "    </tr>\n",
       "    <tr>\n",
       "      <th>E484KN501Y</th>\n",
       "      <td>-1.5965</td>\n",
       "      <td>-2.15175</td>\n",
       "      <td>1.62745</td>\n",
       "      <td>-0.32055</td>\n",
       "    </tr>\n",
       "    <tr>\n",
       "      <th>Gamma</th>\n",
       "      <td>-2.4251</td>\n",
       "      <td>-0.85915</td>\n",
       "      <td>1.04805</td>\n",
       "      <td>-6.30685</td>\n",
       "    </tr>\n",
       "    <tr>\n",
       "      <th>K417NE484K</th>\n",
       "      <td>0.0637</td>\n",
       "      <td>0.02535</td>\n",
       "      <td>5.00785</td>\n",
       "      <td>-2.01105</td>\n",
       "    </tr>\n",
       "    <tr>\n",
       "      <th>K417TE484K</th>\n",
       "      <td>-5.1829</td>\n",
       "      <td>-5.70915</td>\n",
       "      <td>0.63365</td>\n",
       "      <td>-6.96415</td>\n",
       "    </tr>\n",
       "  </tbody>\n",
       "</table>\n",
       "</div>"
      ],
      "text/plain": [
       "            gb6opt1  gb6mbondi2  gb5mbondi2  gb6opt5d\n",
       "Beta         0.3359    -2.94795     0.77775  -2.33545\n",
       "E484KN501Y  -1.5965    -2.15175     1.62745  -0.32055\n",
       "Gamma       -2.4251    -0.85915     1.04805  -6.30685\n",
       "K417NE484K   0.0637     0.02535     5.00785  -2.01105\n",
       "K417TE484K  -5.1829    -5.70915     0.63365  -6.96415"
      ]
     },
     "execution_count": 22,
     "metadata": {},
     "output_type": "execute_result"
    }
   ],
   "source": [
    "ddg_sims.sub( -hardcoded_ddg_spr, axis=0)"
   ]
  },
  {
   "cell_type": "code",
   "execution_count": 23,
   "id": "91e38586",
   "metadata": {},
   "outputs": [],
   "source": [
    "ddg_multi_df = ddg_sims.sub( -hardcoded_ddg_spr, axis=0)\n",
    "updated_order = ddg_multi_df[[ 'gb5mbondi2','gb6mbondi2', 'gb6opt1',  'gb6opt5d']].copy()\n",
    "updated_col_names = ['GB5 Mbondi2', 'GB66 Mbondi2', 'GB66 OPT1', 'GB66 OPT5d', ]\n",
    "latex_ready_multi = updated_order.rename(columns=dict(zip([ 'gb5mbondi2','gb6mbondi2', 'gb6opt1',  'gb6opt5d'],  updated_col_names)))"
   ]
  },
  {
   "cell_type": "code",
   "execution_count": 24,
   "id": "23aedcb3",
   "metadata": {},
   "outputs": [
    {
     "data": {
      "text/plain": [
       "GB5 Mbondi2     2.442620\n",
       "GB66 Mbondi2    3.054623\n",
       "GB66 OPT1       2.661175\n",
       "GB66 OPT5d      4.424413\n",
       "dtype: float64"
      ]
     },
     "execution_count": 24,
     "metadata": {},
     "output_type": "execute_result"
    }
   ],
   "source": [
    "(latex_ready_multi**2).mean()**(1/2)"
   ]
  },
  {
   "cell_type": "code",
   "execution_count": 25,
   "id": "92768825",
   "metadata": {},
   "outputs": [
    {
     "name": "stdout",
     "output_type": "stream",
     "text": [
      "\\begin{tabular}{lrrrr}\n",
      "\\toprule\n",
      " & GB5 Mbondi2 & GB66 Mbondi2 & GB66 OPT1 & GB66 OPT5d \\\\\n",
      "\\midrule\n",
      "Beta & 0.78 & \\textbf{-2.95} & 0.34 & -2.34 \\\\\n",
      "E484KN501Y & 1.63 & \\textbf{-2.15} & -1.60 & -0.32 \\\\\n",
      "Gamma & 1.05 & -0.86 & -2.43 & \\textbf{-6.31} \\\\\n",
      "K417NE484K & 5.01 & 0.03 & 0.06 & \\textbf{-2.01} \\\\\n",
      "K417TE484K & 0.63 & -5.71 & -5.18 & \\textbf{-6.96} \\\\\n",
      "\\bottomrule\n",
      "\\end{tabular}\n",
      "\n"
     ]
    }
   ],
   "source": [
    "ALA_helpers._df_to_latex_cust(latex_ready_multi)"
   ]
  }
 ],
 "metadata": {
  "kernelspec": {
   "display_name": "amber_muts",
   "language": "python",
   "name": "python3"
  },
  "language_info": {
   "codemirror_mode": {
    "name": "ipython",
    "version": 3
   },
   "file_extension": ".py",
   "mimetype": "text/x-python",
   "name": "python",
   "nbconvert_exporter": "python",
   "pygments_lexer": "ipython3",
   "version": "3.10.9"
  }
 },
 "nbformat": 4,
 "nbformat_minor": 5
}
