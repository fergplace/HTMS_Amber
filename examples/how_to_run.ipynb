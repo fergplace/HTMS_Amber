{
 "cells": [
  {
   "cell_type": "markdown",
   "id": "0ccb0308",
   "metadata": {},
   "source": [
    "# Alanine Scanning\n",
    "\n",
    "## Without *mcdrd files \n",
    "Prior to deploying the pipeline, as done below, the user should make use of the `run_simulation_gpu.sh` script. The user is free to customize their input files (*.in) as presented in the AMBER manual. \n",
    "\n",
    "Note: The provided `tmp_input_file.txt` assumes all `*.mcdrd` files are located in the same folder as the `htms_pipeline.py` call.\n",
    "\n",
    "## With *mcdrd files\n",
    "\n",
    "To run the Alanine Scanning pipeline edit the tmp_input_file.txt according your desired specifications. In this example we will be looking at 3 mutations: T:470:A E:471:A I:472:A\n",
    "\n",
    "For the purposes of demonstrating the workflow we are calling htms_pipeline.py from the example direcotry. Moreover, we are making use of the --just_build option to not actully run our mmpbsa.py calls. This is done to showcase the standard output format. \n",
    "\n",
    "`HTMS_Amber\\examples$ python ..\\HTMS_Amber\\htms_pipeline.py --input_file .\\tmp_input_file.txt --just_build --test`\n",
    "\n",
    "Simply call the script as below to delpoy the pipeline properly:\n",
    "\n",
    "`HTMS_Amber\\examples$ python ..\\HTMS_Amber\\htms_pipeline.py --input_file .\\tmp_input_file.txt`\n",
    "\n",
    "We note `mmpbsa.in` in placed within the directory the pipeline is deployed from and shared amoung all runs.  \n"
   ]
  },
  {
   "cell_type": "markdown",
   "id": "d73e4d48",
   "metadata": {},
   "source": [
    "# Non-Alanine Mutations\n",
    "\n",
    "In order to handle non-Alanine mutations we opt to incorporate a call to MODELLER for mutated pdb file generation. \n",
    "\n",
    "`HTMS_Amber\\examples$ python ..\\HTMS_Amber\\htms_pipeline.py --input_file .\\non_ala_tmp_input_file.txt --just_build --test --non_ala`\n",
    "\n",
    "We note the current implementation of the non_alanine scanning pipeline will require the user to first run production runs, then mmpbsa. Given this we opt to dispatch these separetley so we can make use of GPU production, and then scale back to minimal cpu and memory requirements for the mmpbsa.py portion "
   ]
  }
 ],
 "metadata": {
  "kernelspec": {
   "display_name": "amber_muts",
   "language": "python",
   "name": "python3"
  },
  "language_info": {
   "codemirror_mode": {
    "name": "ipython",
    "version": 3
   },
   "file_extension": ".py",
   "mimetype": "text/x-python",
   "name": "python",
   "nbconvert_exporter": "python",
   "pygments_lexer": "ipython3",
   "version": "3.10.9"
  }
 },
 "nbformat": 4,
 "nbformat_minor": 5
}
