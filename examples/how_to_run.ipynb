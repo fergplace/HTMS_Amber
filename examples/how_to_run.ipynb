{
 "cells": [
  {
   "cell_type": "markdown",
   "id": "0ccb0308",
   "metadata": {},
   "source": [
    "# Alanine Scanning\n",
    "\n",
    "## Without *mcdrd files \n",
    "Prior to deploying the pipeline, as done below, the user should make use of the `run_simulation_gpu.sh` script. The user is free to customize their input files (*.in) as presented in the AMBER manual. \n",
    "\n",
    "Note: The provided `tmp_input_file.txt` assumes all `*.mcdrd` files are located in the same folder as the `htms_pipeline.py` call.\n",
    "\n",
    "## With *mcdrd files\n",
    "\n",
    "To run the Alanine Scanning pipeline edit the tmp_input_file.txt according your desired specifications. In this example we will be looking at 3 mutations: T:470:A E:471:A I:472:A\n",
    "\n",
    "For the purposes of demonstrating the workflow we are calling htms_pipeline.py from the example direcotry. Moreover, we are making use of the --just_build option to not actully run our mmpbsa.py calls. This is done to showcase the standard output format. \n",
    "\n",
    "`HTMS_Amber\\examples$ python ..\\HTMS_Amber\\htms_pipeline.py --input_file .\\tmp_input_file.txt --just_build`\n",
    "\n",
    "Simply call the script as below to delpoy the pipeline properly:\n",
    "\n",
    "`HTMS_Amber\\examples$ python ..\\HTMS_Amber\\htms_pipeline.py --input_file .\\tmp_input_file.txt`\n",
    "\n",
    "We note `mmpbsa.in` in placed within the directory the pipeline is deployed from and shared amoung all runs.  \n"
   ]
  },
  {
   "cell_type": "markdown",
   "id": "d73e4d48",
   "metadata": {},
   "source": [
    "# Non-Alanine Mutations\n",
    "\n",
    "In order to handle non-Alanine mutations we opt to incorporate a call to MODELLER for mutated pdb file generation. "
   ]
  },
  {
   "cell_type": "code",
   "execution_count": 1,
   "id": "fe82e1ea",
   "metadata": {},
   "outputs": [],
   "source": [
    "import subprocess \n",
    "import pandas as pd\n",
    "import numpy as np\n",
    "import os\n",
    "import shutil\n",
    "import glob"
   ]
  },
  {
   "cell_type": "code",
   "execution_count": 2,
   "id": "5f364cde",
   "metadata": {},
   "outputs": [],
   "source": [
    "amino_acids = {\n",
    "    'A': 'ALA',  # Alanine\n",
    "    'R': 'ARG',  # Arginine\n",
    "    'N': 'ASN',  # Asparagine\n",
    "    'D': 'ASP',  # Aspartic Acid\n",
    "    'C': 'CYS',  # Cysteine\n",
    "    'E': 'GLU',  # Glutamic Acid\n",
    "    'Q': 'GLN',  # Glutamine\n",
    "    'G': 'GLY',  # Glycine\n",
    "    'H': 'HIS',  # Histidine\n",
    "    'I': 'ILE',  # Isoleucine\n",
    "    'L': 'LEU',  # Leucine\n",
    "    'K': 'LYS',  # Lysine\n",
    "    'M': 'MET',  # Methionine\n",
    "    'F': 'PHE',  # Phenylalanine\n",
    "    'P': 'PRO',  # Proline\n",
    "    'S': 'SER',  # Serine\n",
    "    'T': 'THR',  # Threonine\n",
    "    'W': 'TRP',  # Tryptophan\n",
    "    'Y': 'TYR',  # Tyrosine\n",
    "    'V': 'VAL',  # Valine\n",
    "}\n"
   ]
  },
  {
   "cell_type": "code",
   "execution_count": 3,
   "id": "c50bfa97",
   "metadata": {},
   "outputs": [],
   "source": [
    "E417N = [(\"417\", amino_acids[\"N\"])]\n",
    "# E417T = [(\"417\", amino_acids[\"T\"])]\n",
    "# S477N = [(\"477\", amino_acids[\"N\"])]\n",
    "# E484K = [(\"484\", amino_acids[\"K\"])]\n",
    "# N501Y = [(\"501\", amino_acids[\"Y\"])]\n",
    "# K417N_E484K = [(\"484\", amino_acids[\"K\"]), (\"417\", amino_acids[\"N\"])]\n",
    "# K417T_E484K = [(\"484\", amino_acids[\"K\"]), (\"417\", amino_acids[\"T\"])]\n",
    "E484K_N501Y = [(\"484\", amino_acids[\"K\"]), (\"501\", amino_acids[\"Y\"])]\n",
    "\n",
    "mutations_dict ={\"E417N\": E417N, \n",
    "                #  \"E417T\": E417T\n",
    "                #  \"S477N\": S477N, \n",
    "                #  \"E484K\": E484K, \n",
    "                #  \"N501Y\": N501Y,\n",
    "                #  \"K417N_E484K\": K417N_E484K,\n",
    "                #  \"K417T_E484K\": K417T_E484K,\n",
    "                 \"E484K_N501Y\": E484K_N501Y}"
   ]
  },
  {
   "cell_type": "code",
   "execution_count": 2,
   "id": "7bccfeab",
   "metadata": {},
   "outputs": [
    {
     "ename": "ModuleNotFoundError",
     "evalue": "No module named 'HTMS_Amber'",
     "output_type": "error",
     "traceback": [
      "\u001b[1;31m---------------------------------------------------------------------------\u001b[0m",
      "\u001b[1;31mModuleNotFoundError\u001b[0m                       Traceback (most recent call last)",
      "Cell \u001b[1;32mIn[2], line 5\u001b[0m\n\u001b[0;32m      3\u001b[0m \u001b[38;5;28;01mfrom\u001b[39;00m  \u001b[38;5;21;01mpathlib\u001b[39;00m \u001b[38;5;28;01mimport\u001b[39;00m Path\n\u001b[0;32m      4\u001b[0m sys\u001b[38;5;241m.\u001b[39mpath\u001b[38;5;241m.\u001b[39mappend(((Path(sys\u001b[38;5;241m.\u001b[39mpath[\u001b[38;5;241m0\u001b[39m]))\u001b[38;5;241m.\u001b[39mparent)\u001b[38;5;241m.\u001b[39mas_posix()) \n\u001b[1;32m----> 5\u001b[0m \u001b[38;5;28;01mimport\u001b[39;00m \u001b[38;5;21;01mHTMS_Amber\u001b[39;00m\u001b[38;5;21;01m.\u001b[39;00m\u001b[38;5;21;01mhtms_pipeline\u001b[39;00m \n",
      "\u001b[1;31mModuleNotFoundError\u001b[0m: No module named 'HTMS_Amber'"
     ]
    }
   ],
   "source": [
    "import os \n",
    "import sys\n",
    "from  pathlib import Path\n",
    "sys.path.append(((Path(sys.path[0])).parent).as_posix()) \n",
    "import HTMS_Amber.htms_pipeline "
   ]
  },
  {
   "cell_type": "code",
   "execution_count": 4,
   "id": "b8fbab92",
   "metadata": {},
   "outputs": [
    {
     "ename": "NameError",
     "evalue": "name 'make_model_str' is not defined",
     "output_type": "error",
     "traceback": [
      "\u001b[1;31m---------------------------------------------------------------------------\u001b[0m",
      "\u001b[1;31mNameError\u001b[0m                                 Traceback (most recent call last)",
      "Cell \u001b[1;32mIn[4], line 13\u001b[0m\n\u001b[0;32m     10\u001b[0m \u001b[38;5;28;01mif\u001b[39;00m \u001b[38;5;129;01mnot\u001b[39;00m os\u001b[38;5;241m.\u001b[39mpath\u001b[38;5;241m.\u001b[39mexists(dir_str):\n\u001b[0;32m     11\u001b[0m \tos\u001b[38;5;241m.\u001b[39mmakedirs(dir_str)\n\u001b[1;32m---> 13\u001b[0m subprocess\u001b[38;5;241m.\u001b[39mrun(\u001b[38;5;124mf\u001b[39m\u001b[38;5;124m\"\u001b[39m\u001b[38;5;132;01m{\u001b[39;00m\u001b[43mmake_model_str\u001b[49m\u001b[38;5;132;01m}\u001b[39;00m\u001b[38;5;124m \u001b[39m\u001b[38;5;132;01m{\u001b[39;00mmutation\u001b[38;5;132;01m}\u001b[39;00m\u001b[38;5;124m A \u001b[39m\u001b[38;5;132;01m{\u001b[39;00mformatted_string_mut_in\u001b[38;5;132;01m}\u001b[39;00m\u001b[38;5;124m\"\u001b[39m)\n\u001b[0;32m     16\u001b[0m \u001b[38;5;66;03m#move the file into the dir. \u001b[39;00m\n\u001b[0;32m     17\u001b[0m pdb_file \u001b[38;5;241m=\u001b[39m \u001b[38;5;124mf\u001b[39m\u001b[38;5;124m\"\u001b[39m\u001b[38;5;124m6m0j_noHet\u001b[39m\u001b[38;5;132;01m{\u001b[39;00mmutation\u001b[38;5;132;01m}\u001b[39;00m\u001b[38;5;124m.pdb\u001b[39m\u001b[38;5;124m\"\u001b[39m\n",
      "\u001b[1;31mNameError\u001b[0m: name 'make_model_str' is not defined"
     ]
    }
   ],
   "source": [
    "for mutation , mut_input_list in mutations_dict.items() :\n",
    "\t#turn our arr of tuples into a input for sys.argv (kinda dumb, but will work)\n",
    "\tflattened_list = [str(item) for tup in mut_input_list for item in tup] \n",
    "\n",
    "\tformatted_string_mut_in = ' '.join(flattened_list)\n",
    "\n",
    "\t# modeller_str = make_model_str + \" \" + mut_input_list + \"asdasd\" + \" A\"\n",
    "\tdir_str = \"_\" + mutation\n",
    "\n",
    "\tif not os.path.exists(dir_str):\n",
    "\t\tos.makedirs(dir_str)\n",
    "\n",
    "\tsubprocess.run(f\"{make_model_str} {mutation} A {formatted_string_mut_in}\")\n",
    "\n",
    "\n",
    "\t#move the file into the dir. \n",
    "\tpdb_file = f\"6m0j_noHet{mutation}.pdb\"\n",
    "\tsubprocess.run([\"move\", pdb_file, dir_str], shell=True)\n",
    "\n",
    "\tos.chdir(dir_str) #step into dir, makes passing outputs easier \n",
    "\tprint(os.getcwd())\n",
    "\tsim_set_up_str = [\"python\", \"../sim_set_up.py\",  pdb_file]\n",
    "\tsubprocess.run(sim_set_up_str)\n",
    "\n",
    "\t#subprocess.run(['sed', '-i', 's/\\r$//', 'all_process.sh'])\n",
    "\tsubprocess.run([\"C:/Program Files/Git/usr/bin/sed\", \"-i\", \"s/\\r$//\", \"all_process.sh\"])\n",
    "\t#subprocess.run(['dos2unix', 'all_process.sh'])\n",
    "\tsubprocess.run([\"C:/Program Files/Git/usr/bin/sed\", \"-i\", \"s/\\r$//\", \"'run_MMPBSA.sh'\"])\n",
    "\t#subprocess.run(['dos2unix', 'run_MMPBSA.sh'])\n",
    "\tos.chdir(\"..\")\n",
    "\tprint(os.getcwd())\n",
    "\t#place in files into dir \n",
    "\tfor in_file in glob.glob(\"gen_in_files\\*.in\"):\n",
    "\t\tshutil.copy(in_file, dir_str)"
   ]
  }
 ],
 "metadata": {
  "kernelspec": {
   "display_name": "amber_muts",
   "language": "python",
   "name": "python3"
  },
  "language_info": {
   "codemirror_mode": {
    "name": "ipython",
    "version": 3
   },
   "file_extension": ".py",
   "mimetype": "text/x-python",
   "name": "python",
   "nbconvert_exporter": "python",
   "pygments_lexer": "ipython3",
   "version": "3.10.9"
  }
 },
 "nbformat": 4,
 "nbformat_minor": 5
}
